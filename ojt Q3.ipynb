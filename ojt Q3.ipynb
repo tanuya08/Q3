{
 "cells": [
  {
   "cell_type": "markdown",
   "id": "59df67d9",
   "metadata": {},
   "source": [
    "# Q3. Singular Value Decomposition (SVD):\n",
    "Perform Singular Value Decomposition on the matrix A obtained in Question 2. Separate and print matrices U, Σ, and 𝑉 ் . Verify that A equals the product of U, Σ, and 𝑉 ் . Additionally, find the rank 2 and rank 3 approximations of matrix A.\n",
    "\n",
    " "
   ]
  },
  {
   "cell_type": "code",
   "execution_count": 6,
   "id": "723195eb",
   "metadata": {},
   "outputs": [],
   "source": [
    "import numpy as np\n",
    "import pandas as pd \n",
    "import matplotlib.pyplot as plt\n",
    "import seaborn as sns"
   ]
  },
  {
   "cell_type": "code",
   "execution_count": 7,
   "id": "bd25e850",
   "metadata": {},
   "outputs": [
    {
     "name": "stdout",
     "output_type": "stream",
     "text": [
      "Original matrix A:\n",
      "[[5 7 7 4 1]\n",
      " [6 6 9 4 6]\n",
      " [1 8 0 6 7]\n",
      " [5 6 5 1 8]\n",
      " [8 7 7 0 8]]\n"
     ]
    }
   ],
   "source": [
    "A = np.random.randint(0, 10, size=(5, 5))\n",
    "print(\"Original matrix A:\")\n",
    "print(A)"
   ]
  },
  {
   "cell_type": "code",
   "execution_count": 8,
   "id": "e44eb22e",
   "metadata": {},
   "outputs": [
    {
     "name": "stdout",
     "output_type": "stream",
     "text": [
      "Matrix U:\n",
      "[[-0.38831253  0.20646633  0.73047983  0.46617179 -0.23594091]\n",
      " [-0.50911834  0.22605058  0.22576441 -0.7704591   0.21242143]\n",
      " [-0.34775224 -0.91345816  0.10447885  0.04172747  0.178901  ]\n",
      " [-0.43543666 -0.0406215  -0.43104063 -0.06730372 -0.78639621]\n",
      " [-0.52865413  0.26498468 -0.46767275  0.42755779  0.49878298]]\n",
      "\n",
      "Matrix Sigma:\n",
      "[[27.47425757  0.          0.          0.          0.        ]\n",
      " [ 0.          8.35540477  0.          0.          0.        ]\n",
      " [ 0.          0.          6.39838869  0.          0.        ]\n",
      " [ 0.          0.          0.          2.49060332  0.        ]\n",
      " [ 0.          0.          0.          0.          0.45814756]]\n",
      "\n",
      "Matrix V:\n",
      "[[-0.42768913  0.40595842 -0.122706    0.33476851  0.72467444]\n",
      " [-0.54116529 -0.34647438  0.22565417  0.62769927 -0.37705365]\n",
      " [-0.47964954  0.61415395  0.26824349 -0.40734845 -0.39352753]\n",
      " [-0.22245091 -0.45375453  0.62840969 -0.41519584  0.42111292]\n",
      " [-0.49464538 -0.36342126 -0.68349845 -0.39446587 -0.02185139]]\n"
     ]
    }
   ],
   "source": [
    "#Q 3\n",
    "# Perform Singular Value Decomposition (SVD)\n",
    "U, Sigma, V_transpose = np.linalg.svd(A)\n",
    "Sigma_mat = np.zeros_like(A, dtype=float)\n",
    "Sigma_mat[:min(A.shape[0], A.shape[1]), :min(A.shape[0], A.shape[1])] = np.diag(Sigma)\n",
    "print(\"Matrix U:\")\n",
    "print(U)\n",
    "print(\"\\nMatrix Sigma:\")\n",
    "print(Sigma_mat)\n",
    "print(\"\\nMatrix V:\")\n",
    "print(V_transpose.T) "
   ]
  },
  {
   "cell_type": "code",
   "execution_count": null,
   "id": "e03fa65f",
   "metadata": {},
   "outputs": [],
   "source": []
  }
 ],
 "metadata": {
  "kernelspec": {
   "display_name": "Python 3 (ipykernel)",
   "language": "python",
   "name": "python3"
  },
  "language_info": {
   "codemirror_mode": {
    "name": "ipython",
    "version": 3
   },
   "file_extension": ".py",
   "mimetype": "text/x-python",
   "name": "python",
   "nbconvert_exporter": "python",
   "pygments_lexer": "ipython3",
   "version": "3.11.5"
  }
 },
 "nbformat": 4,
 "nbformat_minor": 5
}
